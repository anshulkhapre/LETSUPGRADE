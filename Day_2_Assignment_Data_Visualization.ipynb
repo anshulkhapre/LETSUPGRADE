{
  "nbformat": 4,
  "nbformat_minor": 0,
  "metadata": {
    "colab": {
      "name": "Day 2 Assignment Data Visualization.ipynb",
      "provenance": [],
      "authorship_tag": "ABX9TyPZJYMy8ViStmBgI9fVspyP",
      "include_colab_link": true
    },
    "kernelspec": {
      "name": "python3",
      "display_name": "Python 3"
    },
    "language_info": {
      "name": "python"
    }
  },
  "cells": [
    {
      "cell_type": "markdown",
      "metadata": {
        "id": "view-in-github",
        "colab_type": "text"
      },
      "source": [
        "<a href=\"https://colab.research.google.com/github/anshulkhapre/LETSUPGRADE/blob/main/Day_2_Assignment_Data_Visualization.ipynb\" target=\"_parent\"><img src=\"https://colab.research.google.com/assets/colab-badge.svg\" alt=\"Open In Colab\"/></a>"
      ]
    },
    {
      "cell_type": "markdown",
      "metadata": {
        "id": "yMIQc_RJuaIB"
      },
      "source": [
        "Day 2 assignment\n"
      ]
    },
    {
      "cell_type": "markdown",
      "metadata": {
        "id": "Q20GaK3XugOn"
      },
      "source": [
        "Name:- Anshul Khapre\n",
        "\n",
        "Email:- anshul.khapre2000@gmail.com\n",
        "\n",
        "date:- 06/07/2021\n",
        "\n",
        "Assignment 2"
      ]
    },
    {
      "cell_type": "code",
      "metadata": {
        "id": "VayT0gNpu1Wn"
      },
      "source": [
        "import numpy as np\n",
        "import pandas as pd \n",
        "import matplotlib as mpl\n",
        "import matplotlib.pyplot as plt\n",
        "import seaborn as sns\n",
        "%matplotlib inline\n",
        "from numpy.random import randn , randint , uniform , sample"
      ],
      "execution_count": null,
      "outputs": []
    },
    {
      "cell_type": "code",
      "metadata": {
        "id": "Y3O3fUKLu4bl"
      },
      "source": [
        "df=pd.DataFrame(randn(10,4), columns=['a','b','c','d'])"
      ],
      "execution_count": 2,
      "outputs": []
    },
    {
      "cell_type": "code",
      "metadata": {
        "colab": {
          "base_uri": "https://localhost:8080/",
          "height": 359
        },
        "id": "WGvaruGLvAyu",
        "outputId": "12cd42f8-5941-4a70-d048-4f801ec56314"
      },
      "source": [
        "df"
      ],
      "execution_count": 3,
      "outputs": [
        {
          "output_type": "execute_result",
          "data": {
            "text/html": [
              "<div>\n",
              "<style scoped>\n",
              "    .dataframe tbody tr th:only-of-type {\n",
              "        vertical-align: middle;\n",
              "    }\n",
              "\n",
              "    .dataframe tbody tr th {\n",
              "        vertical-align: top;\n",
              "    }\n",
              "\n",
              "    .dataframe thead th {\n",
              "        text-align: right;\n",
              "    }\n",
              "</style>\n",
              "<table border=\"1\" class=\"dataframe\">\n",
              "  <thead>\n",
              "    <tr style=\"text-align: right;\">\n",
              "      <th></th>\n",
              "      <th>a</th>\n",
              "      <th>b</th>\n",
              "      <th>c</th>\n",
              "      <th>d</th>\n",
              "    </tr>\n",
              "  </thead>\n",
              "  <tbody>\n",
              "    <tr>\n",
              "      <th>0</th>\n",
              "      <td>-0.974273</td>\n",
              "      <td>-0.481609</td>\n",
              "      <td>-3.370968</td>\n",
              "      <td>1.120994</td>\n",
              "    </tr>\n",
              "    <tr>\n",
              "      <th>1</th>\n",
              "      <td>-0.234599</td>\n",
              "      <td>0.353013</td>\n",
              "      <td>-0.283259</td>\n",
              "      <td>0.479175</td>\n",
              "    </tr>\n",
              "    <tr>\n",
              "      <th>2</th>\n",
              "      <td>-0.518928</td>\n",
              "      <td>0.528698</td>\n",
              "      <td>0.779888</td>\n",
              "      <td>1.174935</td>\n",
              "    </tr>\n",
              "    <tr>\n",
              "      <th>3</th>\n",
              "      <td>-2.574040</td>\n",
              "      <td>-0.513439</td>\n",
              "      <td>-1.152714</td>\n",
              "      <td>1.235904</td>\n",
              "    </tr>\n",
              "    <tr>\n",
              "      <th>4</th>\n",
              "      <td>-0.228407</td>\n",
              "      <td>0.745111</td>\n",
              "      <td>-0.095235</td>\n",
              "      <td>0.496841</td>\n",
              "    </tr>\n",
              "    <tr>\n",
              "      <th>5</th>\n",
              "      <td>-0.058701</td>\n",
              "      <td>-1.686307</td>\n",
              "      <td>-0.536025</td>\n",
              "      <td>0.084066</td>\n",
              "    </tr>\n",
              "    <tr>\n",
              "      <th>6</th>\n",
              "      <td>0.288092</td>\n",
              "      <td>1.479655</td>\n",
              "      <td>0.517492</td>\n",
              "      <td>-0.486306</td>\n",
              "    </tr>\n",
              "    <tr>\n",
              "      <th>7</th>\n",
              "      <td>1.204766</td>\n",
              "      <td>0.701294</td>\n",
              "      <td>-1.064879</td>\n",
              "      <td>-0.844938</td>\n",
              "    </tr>\n",
              "    <tr>\n",
              "      <th>8</th>\n",
              "      <td>-0.282275</td>\n",
              "      <td>0.445126</td>\n",
              "      <td>0.901498</td>\n",
              "      <td>-0.718664</td>\n",
              "    </tr>\n",
              "    <tr>\n",
              "      <th>9</th>\n",
              "      <td>-1.260783</td>\n",
              "      <td>0.532696</td>\n",
              "      <td>0.770999</td>\n",
              "      <td>0.184718</td>\n",
              "    </tr>\n",
              "  </tbody>\n",
              "</table>\n",
              "</div>"
            ],
            "text/plain": [
              "          a         b         c         d\n",
              "0 -0.974273 -0.481609 -3.370968  1.120994\n",
              "1 -0.234599  0.353013 -0.283259  0.479175\n",
              "2 -0.518928  0.528698  0.779888  1.174935\n",
              "3 -2.574040 -0.513439 -1.152714  1.235904\n",
              "4 -0.228407  0.745111 -0.095235  0.496841\n",
              "5 -0.058701 -1.686307 -0.536025  0.084066\n",
              "6  0.288092  1.479655  0.517492 -0.486306\n",
              "7  1.204766  0.701294 -1.064879 -0.844938\n",
              "8 -0.282275  0.445126  0.901498 -0.718664\n",
              "9 -1.260783  0.532696  0.770999  0.184718"
            ]
          },
          "metadata": {
            "tags": []
          },
          "execution_count": 3
        }
      ]
    },
    {
      "cell_type": "code",
      "metadata": {
        "colab": {
          "base_uri": "https://localhost:8080/",
          "height": 297
        },
        "id": "hWYV3G6HvGlF",
        "outputId": "8241249e-68a3-4ced-a8ab-9d78efd5f9aa"
      },
      "source": [
        "df.describe()"
      ],
      "execution_count": 4,
      "outputs": [
        {
          "output_type": "execute_result",
          "data": {
            "text/html": [
              "<div>\n",
              "<style scoped>\n",
              "    .dataframe tbody tr th:only-of-type {\n",
              "        vertical-align: middle;\n",
              "    }\n",
              "\n",
              "    .dataframe tbody tr th {\n",
              "        vertical-align: top;\n",
              "    }\n",
              "\n",
              "    .dataframe thead th {\n",
              "        text-align: right;\n",
              "    }\n",
              "</style>\n",
              "<table border=\"1\" class=\"dataframe\">\n",
              "  <thead>\n",
              "    <tr style=\"text-align: right;\">\n",
              "      <th></th>\n",
              "      <th>a</th>\n",
              "      <th>b</th>\n",
              "      <th>c</th>\n",
              "      <th>d</th>\n",
              "    </tr>\n",
              "  </thead>\n",
              "  <tbody>\n",
              "    <tr>\n",
              "      <th>count</th>\n",
              "      <td>10.000000</td>\n",
              "      <td>10.000000</td>\n",
              "      <td>10.000000</td>\n",
              "      <td>10.000000</td>\n",
              "    </tr>\n",
              "    <tr>\n",
              "      <th>mean</th>\n",
              "      <td>-0.463915</td>\n",
              "      <td>0.210424</td>\n",
              "      <td>-0.353320</td>\n",
              "      <td>0.272673</td>\n",
              "    </tr>\n",
              "    <tr>\n",
              "      <th>std</th>\n",
              "      <td>1.000354</td>\n",
              "      <td>0.883103</td>\n",
              "      <td>1.301178</td>\n",
              "      <td>0.774998</td>\n",
              "    </tr>\n",
              "    <tr>\n",
              "      <th>min</th>\n",
              "      <td>-2.574040</td>\n",
              "      <td>-1.686307</td>\n",
              "      <td>-3.370968</td>\n",
              "      <td>-0.844938</td>\n",
              "    </tr>\n",
              "    <tr>\n",
              "      <th>25%</th>\n",
              "      <td>-0.860437</td>\n",
              "      <td>-0.272953</td>\n",
              "      <td>-0.932665</td>\n",
              "      <td>-0.343713</td>\n",
              "    </tr>\n",
              "    <tr>\n",
              "      <th>50%</th>\n",
              "      <td>-0.258437</td>\n",
              "      <td>0.486912</td>\n",
              "      <td>-0.189247</td>\n",
              "      <td>0.331947</td>\n",
              "    </tr>\n",
              "    <tr>\n",
              "      <th>75%</th>\n",
              "      <td>-0.101128</td>\n",
              "      <td>0.659145</td>\n",
              "      <td>0.707622</td>\n",
              "      <td>0.964956</td>\n",
              "    </tr>\n",
              "    <tr>\n",
              "      <th>max</th>\n",
              "      <td>1.204766</td>\n",
              "      <td>1.479655</td>\n",
              "      <td>0.901498</td>\n",
              "      <td>1.235904</td>\n",
              "    </tr>\n",
              "  </tbody>\n",
              "</table>\n",
              "</div>"
            ],
            "text/plain": [
              "               a          b          c          d\n",
              "count  10.000000  10.000000  10.000000  10.000000\n",
              "mean   -0.463915   0.210424  -0.353320   0.272673\n",
              "std     1.000354   0.883103   1.301178   0.774998\n",
              "min    -2.574040  -1.686307  -3.370968  -0.844938\n",
              "25%    -0.860437  -0.272953  -0.932665  -0.343713\n",
              "50%    -0.258437   0.486912  -0.189247   0.331947\n",
              "75%    -0.101128   0.659145   0.707622   0.964956\n",
              "max     1.204766   1.479655   0.901498   1.235904"
            ]
          },
          "metadata": {
            "tags": []
          },
          "execution_count": 4
        }
      ]
    },
    {
      "cell_type": "code",
      "metadata": {
        "colab": {
          "base_uri": "https://localhost:8080/",
          "height": 604
        },
        "id": "bRSTpj1IvLO3",
        "outputId": "fd7890fb-3aee-4dc9-c615-763d8ece3add"
      },
      "source": [
        "df.plot(kind='bar',figsize=(10,10))\n",
        "plt.title(\"BAR GRAPH\",color='b')\n",
        "plt.show()"
      ],
      "execution_count": 5,
      "outputs": [
        {
          "output_type": "display_data",
          "data": {
            "image/png": "[encoded data removed]",
            "text/plain": [
              "<Figure size 720x720 with 1 Axes>"
            ]
          },
          "metadata": {
            "tags": [],
            "needs_background": "light"
          }
        }
      ]
    }
  ]
}